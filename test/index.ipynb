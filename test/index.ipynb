{
 "cells": [
  {
   "cell_type": "markdown",
   "metadata": {},
   "source": [
    "# Python For loops Lab"
   ]
  },
  {
   "cell_type": "markdown",
   "metadata": {},
   "source": [
    "## Introduction\n",
    "In this lab, we will be practicing what we know about for loops. We will use them to reduce the amount of code we write by hand to iterate through collections. We will use data from our excel file, `cities.xlsx`, that had data on different cities, their populations, and their areas. Finally, we will use this information to plot and compare each city. Let's get started!"
   ]
  },
  {
   "cell_type": "markdown",
   "metadata": {},
   "source": [
    "### Learning Objectives"
   ]
  },
  {
   "cell_type": "markdown",
   "metadata": {},
   "source": [
    "* Understand how for loops can help us reduce repetition\n",
    "* Understand the syntax of for loops "
   ]
  },
  {
   "cell_type": "markdown",
   "metadata": {},
   "source": [
    "## Identifying When To Use a For Loop"
   ]
  },
  {
   "cell_type": "markdown",
   "metadata": {},
   "source": [
    "In the last lesson, we worked with some of our travel data.  Let's retrieve a list with our travel information again from excel.  First, we read the information from excel as a list of dictionaries, with each dictionary representing a location.  And we assign this list to the variable `cities`."
   ]
  },
  {
   "cell_type": "code",
   "execution_count": 1,
   "metadata": {},
   "outputs": [],
   "source": [
    "import pandas\n",
    "file_name = './cities.xlsx'\n",
    "travel_df = pandas.read_excel(file_name)\n",
    "cities = travel_df.to_dict('records')"
   ]
  },
  {
   "cell_type": "markdown",
   "metadata": {},
   "source": [
    "Next, we retrieve the first three city names, stored as the `'City'` attribute of each dictionary, and `'Population'` of each of the cities.  Then we plot the names as our `x_values` and the populations as our `y_values`."
   ]
  },
  {
   "cell_type": "code",
   "execution_count": null,
   "metadata": {},
   "outputs": [],
   "source": [
    "import plotly\n",
    "\n",
    "plotly.offline.init_notebook_mode(connected=True)\n",
    "\n",
    "x_values = [cities[0]['City'], cities[1]['City'], cities[2]['City']]\n",
    "y_values = [cities[0]['Population'], cities[1]['Population'], cities[2]['Population']]\n",
    "trace_first_three_pops = {'x': x_values, 'y': y_values, 'type': 'bar'}\n",
    "plotly.offline.iplot([trace_first_three_pops])"
   ]
  },
  {
   "cell_type": "markdown",
   "metadata": {},
   "source": [
    "Of course, as you may have spotted, there is a good amount of repetition in displaying this data.  Just take a look at how we retrieved the data for our `x_values` and `y_values`. And you'll notice that, unless we know the exact number of cities and populations in our excel file, this method of retrieving data might miss some data or try to access values that don't exist. \n",
    "\n",
    "We can take a close look at this below:"
   ]
  },
  {
   "cell_type": "code",
   "execution_count": null,
   "metadata": {},
   "outputs": [],
   "source": [
    "x_values = [cities[0]['City'], cities[1]['City'], cities[2]['City']]\n",
    "y_values = [cities[0]['Population'], cities[1]['Population'], cities[2]['Population']]"
   ]
  },
  {
   "cell_type": "markdown",
   "metadata": {},
   "source": [
    "As we can see, if we have any more than 3 lines of data, our `x_values` and `y_values` will be incomplete, and if we had only 2 lines of data, our code would break.\n",
    "\n",
    "So in this lesson, we will use our `for` loop to display information about our travel locations with less repetition and more accuracy."
   ]
  },
  {
   "cell_type": "markdown",
   "metadata": {},
   "source": [
    "## Instructions"
   ]
  },
  {
   "cell_type": "markdown",
   "metadata": {},
   "source": [
    "Our `cities` list contains information about the top 12 cities.  For our upcoming iteration tasks, it will be useful to have a list of the numbers 0 through 11.  Use what we know about `len` and `range`to generate a list of numbers 1 through 11.  Assign this to a variable called `city_indices`."
   ]
  },
  {
   "cell_type": "code",
   "execution_count": 2,
   "metadata": {},
   "outputs": [
    {
     "data": {
      "text/plain": [
       "[0, 1, 2, 3, 4, 5, 6, 7, 8, 9, 10, 11]"
      ]
     },
     "execution_count": 2,
     "metadata": {},
     "output_type": "execute_result"
    }
   ],
   "source": [
    "city_indices = list(range(0,12))\n",
    "city_indices # [0, 1, 2, 3, 4, 5, 6, 7, 8, 9, 10, 11]"
   ]
  },
  {
   "cell_type": "markdown",
   "metadata": {},
   "source": [
    "Now, using the `cities` list, we want to create a list of the names for each city. Loop through each city and append it's name (`'City'`) to the `city_names` list. "
   ]
  },
  {
   "cell_type": "code",
   "execution_count": 3,
   "metadata": {},
   "outputs": [
    {
     "data": {
      "text/plain": [
       "['Buenos Aires',\n",
       " 'Toronto',\n",
       " 'Pyeongchang',\n",
       " 'Marakesh',\n",
       " 'Albuquerque',\n",
       " 'Los Cabos',\n",
       " 'Greenville',\n",
       " 'Archipelago Sea',\n",
       " 'Walla Walla Valley',\n",
       " 'Salina Island',\n",
       " 'Solta',\n",
       " 'Iguazu Falls']"
      ]
     },
     "execution_count": 3,
     "metadata": {},
     "output_type": "execute_result"
    }
   ],
   "source": [
    "city_names = [city['City'] for city in cities]\n",
    "city_names"
   ]
  },
  {
   "cell_type": "markdown",
   "metadata": {},
   "source": [
    "Your task is to assign the variable `names_and_ranks` to a list, with each element equal to the city name and it's corresponding rank.  For example, the first element would be, `\"1. Buenos Aires\"` and the second would be `\"2. Toronto\"`. Luckily for us, the list of cities that we read from our excel file is already in order my most populous to least. So, all we need to do is add numbers 1 through 12 to the beginning of each city name.\n",
    "\n",
    "Use a `for` loop and the lists `city_indices` and `city_names` to accomplish this.  We'll need to perform some nifty string interpolation to format our strings properly.  Check out [f-string interpolation](https://www.programiz.com/python-programming/string-interpolation#f) to see how we can pass values into a string.  Remember that list indices start at zero, but we want our `names_and_ranks` list to start at one!"
   ]
  },
  {
   "cell_type": "code",
   "execution_count": 5,
   "metadata": {},
   "outputs": [
    {
     "data": {
      "text/plain": [
       "['1. Buenos Aires',\n",
       " '2. Toronto',\n",
       " '3. Pyeongchang',\n",
       " '4. Marakesh',\n",
       " '5. Albuquerque',\n",
       " '6. Los Cabos',\n",
       " '7. Greenville',\n",
       " '8. Archipelago Sea',\n",
       " '9. Walla Walla Valley',\n",
       " '10. Salina Island',\n",
       " '11. Solta',\n",
       " '12. Iguazu Falls']"
      ]
     },
     "execution_count": 5,
     "metadata": {},
     "output_type": "execute_result"
    }
   ],
   "source": [
    "names_and_ranks = []\n",
    "for i in city_indices:\n",
    "    names_and_ranks.append(f\"{i+1}. {city_names[i]}\")\n",
    "names_and_ranks\n",
    "# write a for loop that adds the properly formatted string to the names_and_ranks list"
   ]
  },
  {
   "cell_type": "code",
   "execution_count": null,
   "metadata": {},
   "outputs": [],
   "source": [
    "names_and_ranks[0] # '1. Buenos Aires'\n",
    "names_and_ranks[1] # '2. Toronto'\n",
    "names_and_ranks[-1] # '12. Iguazu Falls'"
   ]
  },
  {
   "cell_type": "markdown",
   "metadata": {},
   "source": [
    "Ok, now use another for loop to iterate through our list of `cities` and create a new list called `city_populations` that had the population for each city (`Population`)."
   ]
  },
  {
   "cell_type": "code",
   "execution_count": 18,
   "metadata": {},
   "outputs": [
    {
     "data": {
      "text/plain": [
       "[2891000,\n",
       " 2800000,\n",
       " 2581000,\n",
       " 928850,\n",
       " 559277,\n",
       " 287651,\n",
       " 84554,\n",
       " 60000,\n",
       " 32237,\n",
       " 4000,\n",
       " 1700,\n",
       " 0]"
      ]
     },
     "execution_count": 18,
     "metadata": {},
     "output_type": "execute_result"
    }
   ],
   "source": [
    "city_populations = []\n",
    "for city in cities:\n",
    "    city_populations.append(city['Population'])\n",
    "city_populations \n",
    "# use a for loop to iterate through the list of cities with their corresponding population"
   ]
  },
  {
   "cell_type": "code",
   "execution_count": null,
   "metadata": {
    "collapsed": true
   },
   "outputs": [],
   "source": [
    "city_populations[0] # 2891000\n",
    "city_populations[1] # 2800000\n",
    "city_populations[-1] # 0"
   ]
  },
  {
   "cell_type": "markdown",
   "metadata": {},
   "source": [
    "Great! Now we can begin to plot this data.  First, let's create a trace of our populations and set it to the variable `trace_populations`."
   ]
  },
  {
   "cell_type": "code",
   "execution_count": 12,
   "metadata": {},
   "outputs": [],
   "source": [
    "trace_populations = {'x': names_and_ranks, \n",
    "                     'y': city_populations, \n",
    "                     'text': names_and_ranks, \n",
    "                     'type': 'bar', \n",
    "                     'name': 'Population'}"
   ]
  },
  {
   "cell_type": "code",
   "execution_count": 13,
   "metadata": {},
   "outputs": [
    {
     "data": {
      "text/html": [
       "<script>requirejs.config({paths: { 'plotly': ['https://cdn.plot.ly/plotly-latest.min']},});if(!window.Plotly) {{require(['plotly'],function(plotly) {window.Plotly=plotly;});}}</script>"
      ],
      "text/vnd.plotly.v1+html": [
       "<script>requirejs.config({paths: { 'plotly': ['https://cdn.plot.ly/plotly-latest.min']},});if(!window.Plotly) {{require(['plotly'],function(plotly) {window.Plotly=plotly;});}}</script>"
      ]
     },
     "metadata": {},
     "output_type": "display_data"
    },
    {
     "data": {
      "application/vnd.plotly.v1+json": {
       "data": [
        {
         "name": "Population",
         "text": [
          "1. Buenos Aires",
          "2. Toronto",
          "3. Pyeongchang",
          "4. Marakesh",
          "5. Albuquerque",
          "6. Los Cabos",
          "7. Greenville",
          "8. Archipelago Sea",
          "9. Walla Walla Valley",
          "10. Salina Island",
          "11. Solta",
          "12. Iguazu Falls"
         ],
         "type": "bar",
         "x": [
          "1. Buenos Aires",
          "2. Toronto",
          "3. Pyeongchang",
          "4. Marakesh",
          "5. Albuquerque",
          "6. Los Cabos",
          "7. Greenville",
          "8. Archipelago Sea",
          "9. Walla Walla Valley",
          "10. Salina Island",
          "11. Solta",
          "12. Iguazu Falls"
         ],
         "y": [
          2891000,
          2800000,
          2581000,
          928850,
          559277,
          287651,
          84554,
          60000,
          32237,
          4000,
          1700,
          0
         ]
        }
       ],
       "layout": {}
      },
      "text/html": [
       "<div id=\"f7a9e980-18ee-4926-bef8-e8c90368dd28\" style=\"height: 525px; width: 100%;\" class=\"plotly-graph-div\"></div><script type=\"text/javascript\">require([\"plotly\"], function(Plotly) { window.PLOTLYENV=window.PLOTLYENV || {};window.PLOTLYENV.BASE_URL=\"https://plot.ly\";Plotly.newPlot(\"f7a9e980-18ee-4926-bef8-e8c90368dd28\", [{\"x\": [\"1. Buenos Aires\", \"2. Toronto\", \"3. Pyeongchang\", \"4. Marakesh\", \"5. Albuquerque\", \"6. Los Cabos\", \"7. Greenville\", \"8. Archipelago Sea\", \"9. Walla Walla Valley\", \"10. Salina Island\", \"11. Solta\", \"12. Iguazu Falls\"], \"y\": [2891000, 2800000, 2581000, 928850, 559277, 287651, 84554, 60000, 32237, 4000, 1700, 0], \"text\": [\"1. Buenos Aires\", \"2. Toronto\", \"3. Pyeongchang\", \"4. Marakesh\", \"5. Albuquerque\", \"6. Los Cabos\", \"7. Greenville\", \"8. Archipelago Sea\", \"9. Walla Walla Valley\", \"10. Salina Island\", \"11. Solta\", \"12. Iguazu Falls\"], \"type\": \"bar\", \"name\": \"Population\"}], {}, {\"showLink\": true, \"linkText\": \"Export to plot.ly\"})});</script>"
      ],
      "text/vnd.plotly.v1+html": [
       "<div id=\"f7a9e980-18ee-4926-bef8-e8c90368dd28\" style=\"height: 525px; width: 100%;\" class=\"plotly-graph-div\"></div><script type=\"text/javascript\">require([\"plotly\"], function(Plotly) { window.PLOTLYENV=window.PLOTLYENV || {};window.PLOTLYENV.BASE_URL=\"https://plot.ly\";Plotly.newPlot(\"f7a9e980-18ee-4926-bef8-e8c90368dd28\", [{\"x\": [\"1. Buenos Aires\", \"2. Toronto\", \"3. Pyeongchang\", \"4. Marakesh\", \"5. Albuquerque\", \"6. Los Cabos\", \"7. Greenville\", \"8. Archipelago Sea\", \"9. Walla Walla Valley\", \"10. Salina Island\", \"11. Solta\", \"12. Iguazu Falls\"], \"y\": [2891000, 2800000, 2581000, 928850, 559277, 287651, 84554, 60000, 32237, 4000, 1700, 0], \"text\": [\"1. Buenos Aires\", \"2. Toronto\", \"3. Pyeongchang\", \"4. Marakesh\", \"5. Albuquerque\", \"6. Los Cabos\", \"7. Greenville\", \"8. Archipelago Sea\", \"9. Walla Walla Valley\", \"10. Salina Island\", \"11. Solta\", \"12. Iguazu Falls\"], \"type\": \"bar\", \"name\": \"Population\"}], {}, {\"showLink\": true, \"linkText\": \"Export to plot.ly\"})});</script>"
      ]
     },
     "metadata": {},
     "output_type": "display_data"
    }
   ],
   "source": [
    "import plotly\n",
    "plotly.offline.init_notebook_mode(connected=True)\n",
    "plotly.offline.iplot([trace_populations])"
   ]
  },
  {
   "cell_type": "markdown",
   "metadata": {},
   "source": [
    "Now we want declare a variable called `city_areas` that points to a list of all of the areas of the cities.  Let's use a `for` loop to iterate through our `cities` and have `city_areas` equal to each area of the city.  "
   ]
  },
  {
   "cell_type": "code",
   "execution_count": 14,
   "metadata": {},
   "outputs": [
    {
     "data": {
      "text/plain": [
       "[4758, 2731, 3194, 200, 491, 3750, 68, 8300, 33, 27, 59, 672]"
      ]
     },
     "execution_count": 14,
     "metadata": {},
     "output_type": "execute_result"
    }
   ],
   "source": [
    "city_areas = [city['Area'] for city in cities]\n",
    "city_areas"
   ]
  },
  {
   "cell_type": "code",
   "execution_count": 15,
   "metadata": {},
   "outputs": [],
   "source": [
    "trace_areas = {'x': names_and_ranks, 'y': city_areas, 'text': names_and_ranks, 'type': 'bar', 'name': 'Area'}"
   ]
  },
  {
   "cell_type": "markdown",
   "metadata": {},
   "source": [
    "Since there is such a disparity between the size of numbers that represent the population compared to the size of the numbers that represent the areas for each city, below, we are going to represent the population numbers in hundreds. That is, we will take each population and divide it by 100 (i.e. 5,000,000/100 = 500,000.00) This is purely for the purposes of seeing our numbers plotted. \n",
    "\n",
    "No need to worry about the code below, just run the following cells to see our bar graph and keep in mind that the populations all have two more zeros to their real number."
   ]
  },
  {
   "cell_type": "code",
   "execution_count": 21,
   "metadata": {},
   "outputs": [],
   "source": [
    "altered_populations = []\n",
    "for population in city_populations:\n",
    "    altered_populations.append(population/100)\n",
    "\n",
    "trace_populations = {'x': names_and_ranks, \n",
    "                     'y': altered_populations, \n",
    "                     'text': names_and_ranks, \n",
    "                     'type': 'bar', \n",
    "                     'name': 'Population'}"
   ]
  },
  {
   "cell_type": "code",
   "execution_count": 22,
   "metadata": {},
   "outputs": [
    {
     "data": {
      "text/html": [
       "<script>requirejs.config({paths: { 'plotly': ['https://cdn.plot.ly/plotly-latest.min']},});if(!window.Plotly) {{require(['plotly'],function(plotly) {window.Plotly=plotly;});}}</script>"
      ],
      "text/vnd.plotly.v1+html": [
       "<script>requirejs.config({paths: { 'plotly': ['https://cdn.plot.ly/plotly-latest.min']},});if(!window.Plotly) {{require(['plotly'],function(plotly) {window.Plotly=plotly;});}}</script>"
      ]
     },
     "metadata": {},
     "output_type": "display_data"
    },
    {
     "data": {
      "application/vnd.plotly.v1+json": {
       "data": [
        {
         "name": "Population",
         "text": [
          "1. Buenos Aires",
          "2. Toronto",
          "3. Pyeongchang",
          "4. Marakesh",
          "5. Albuquerque",
          "6. Los Cabos",
          "7. Greenville",
          "8. Archipelago Sea",
          "9. Walla Walla Valley",
          "10. Salina Island",
          "11. Solta",
          "12. Iguazu Falls"
         ],
         "type": "bar",
         "x": [
          "1. Buenos Aires",
          "2. Toronto",
          "3. Pyeongchang",
          "4. Marakesh",
          "5. Albuquerque",
          "6. Los Cabos",
          "7. Greenville",
          "8. Archipelago Sea",
          "9. Walla Walla Valley",
          "10. Salina Island",
          "11. Solta",
          "12. Iguazu Falls"
         ],
         "y": [
          28910,
          28000,
          25810,
          9288.5,
          5592.77,
          2876.51,
          845.54,
          600,
          322.37,
          40,
          17,
          0
         ]
        },
        {
         "name": "Area",
         "text": [
          "1. Buenos Aires",
          "2. Toronto",
          "3. Pyeongchang",
          "4. Marakesh",
          "5. Albuquerque",
          "6. Los Cabos",
          "7. Greenville",
          "8. Archipelago Sea",
          "9. Walla Walla Valley",
          "10. Salina Island",
          "11. Solta",
          "12. Iguazu Falls"
         ],
         "type": "bar",
         "x": [
          "1. Buenos Aires",
          "2. Toronto",
          "3. Pyeongchang",
          "4. Marakesh",
          "5. Albuquerque",
          "6. Los Cabos",
          "7. Greenville",
          "8. Archipelago Sea",
          "9. Walla Walla Valley",
          "10. Salina Island",
          "11. Solta",
          "12. Iguazu Falls"
         ],
         "y": [
          4758,
          2731,
          3194,
          200,
          491,
          3750,
          68,
          8300,
          33,
          27,
          59,
          672
         ]
        }
       ],
       "layout": {}
      },
      "text/html": [
       "<div id=\"334c0901-c5f7-42eb-9ebe-3e578963e488\" style=\"height: 525px; width: 100%;\" class=\"plotly-graph-div\"></div><script type=\"text/javascript\">require([\"plotly\"], function(Plotly) { window.PLOTLYENV=window.PLOTLYENV || {};window.PLOTLYENV.BASE_URL=\"https://plot.ly\";Plotly.newPlot(\"334c0901-c5f7-42eb-9ebe-3e578963e488\", [{\"x\": [\"1. Buenos Aires\", \"2. Toronto\", \"3. Pyeongchang\", \"4. Marakesh\", \"5. Albuquerque\", \"6. Los Cabos\", \"7. Greenville\", \"8. Archipelago Sea\", \"9. Walla Walla Valley\", \"10. Salina Island\", \"11. Solta\", \"12. Iguazu Falls\"], \"y\": [28910.0, 28000.0, 25810.0, 9288.5, 5592.77, 2876.51, 845.54, 600.0, 322.37, 40.0, 17.0, 0.0], \"text\": [\"1. Buenos Aires\", \"2. Toronto\", \"3. Pyeongchang\", \"4. Marakesh\", \"5. Albuquerque\", \"6. Los Cabos\", \"7. Greenville\", \"8. Archipelago Sea\", \"9. Walla Walla Valley\", \"10. Salina Island\", \"11. Solta\", \"12. Iguazu Falls\"], \"type\": \"bar\", \"name\": \"Population\"}, {\"x\": [\"1. Buenos Aires\", \"2. Toronto\", \"3. Pyeongchang\", \"4. Marakesh\", \"5. Albuquerque\", \"6. Los Cabos\", \"7. Greenville\", \"8. Archipelago Sea\", \"9. Walla Walla Valley\", \"10. Salina Island\", \"11. Solta\", \"12. Iguazu Falls\"], \"y\": [4758, 2731, 3194, 200, 491, 3750, 68, 8300, 33, 27, 59, 672], \"text\": [\"1. Buenos Aires\", \"2. Toronto\", \"3. Pyeongchang\", \"4. Marakesh\", \"5. Albuquerque\", \"6. Los Cabos\", \"7. Greenville\", \"8. Archipelago Sea\", \"9. Walla Walla Valley\", \"10. Salina Island\", \"11. Solta\", \"12. Iguazu Falls\"], \"type\": \"bar\", \"name\": \"Area\"}], {}, {\"showLink\": true, \"linkText\": \"Export to plot.ly\"})});</script>"
      ],
      "text/vnd.plotly.v1+html": [
       "<div id=\"334c0901-c5f7-42eb-9ebe-3e578963e488\" style=\"height: 525px; width: 100%;\" class=\"plotly-graph-div\"></div><script type=\"text/javascript\">require([\"plotly\"], function(Plotly) { window.PLOTLYENV=window.PLOTLYENV || {};window.PLOTLYENV.BASE_URL=\"https://plot.ly\";Plotly.newPlot(\"334c0901-c5f7-42eb-9ebe-3e578963e488\", [{\"x\": [\"1. Buenos Aires\", \"2. Toronto\", \"3. Pyeongchang\", \"4. Marakesh\", \"5. Albuquerque\", \"6. Los Cabos\", \"7. Greenville\", \"8. Archipelago Sea\", \"9. Walla Walla Valley\", \"10. Salina Island\", \"11. Solta\", \"12. Iguazu Falls\"], \"y\": [28910.0, 28000.0, 25810.0, 9288.5, 5592.77, 2876.51, 845.54, 600.0, 322.37, 40.0, 17.0, 0.0], \"text\": [\"1. Buenos Aires\", \"2. Toronto\", \"3. Pyeongchang\", \"4. Marakesh\", \"5. Albuquerque\", \"6. Los Cabos\", \"7. Greenville\", \"8. Archipelago Sea\", \"9. Walla Walla Valley\", \"10. Salina Island\", \"11. Solta\", \"12. Iguazu Falls\"], \"type\": \"bar\", \"name\": \"Population\"}, {\"x\": [\"1. Buenos Aires\", \"2. Toronto\", \"3. Pyeongchang\", \"4. Marakesh\", \"5. Albuquerque\", \"6. Los Cabos\", \"7. Greenville\", \"8. Archipelago Sea\", \"9. Walla Walla Valley\", \"10. Salina Island\", \"11. Solta\", \"12. Iguazu Falls\"], \"y\": [4758, 2731, 3194, 200, 491, 3750, 68, 8300, 33, 27, 59, 672], \"text\": [\"1. Buenos Aires\", \"2. Toronto\", \"3. Pyeongchang\", \"4. Marakesh\", \"5. Albuquerque\", \"6. Los Cabos\", \"7. Greenville\", \"8. Archipelago Sea\", \"9. Walla Walla Valley\", \"10. Salina Island\", \"11. Solta\", \"12. Iguazu Falls\"], \"type\": \"bar\", \"name\": \"Area\"}], {}, {\"showLink\": true, \"linkText\": \"Export to plot.ly\"})});</script>"
      ]
     },
     "metadata": {},
     "output_type": "display_data"
    }
   ],
   "source": [
    "import plotly\n",
    "plotly.offline.init_notebook_mode(connected=True)\n",
    "plotly.offline.iplot([trace_populations, trace_areas])"
   ]
  },
  {
   "cell_type": "markdown",
   "metadata": {},
   "source": [
    "### Summary"
   ]
  },
  {
   "cell_type": "markdown",
   "metadata": {},
   "source": [
    "In this section we saw how we can use `for` loops to go through elements of a list and perform the same operation on each.  By using `for` loops we were able to reduce the amount of code that we wrote and while also writing more expressive code."
   ]
  }
 ],
 "metadata": {
  "kernelspec": {
   "display_name": "Python 3",
   "language": "python",
   "name": "python3"
  },
  "language_info": {
   "codemirror_mode": {
    "name": "ipython",
    "version": 3
   },
   "file_extension": ".py",
   "mimetype": "text/x-python",
   "name": "python",
   "nbconvert_exporter": "python",
   "pygments_lexer": "ipython3",
   "version": "3.6.5"
  }
 },
 "nbformat": 4,
 "nbformat_minor": 2
}
